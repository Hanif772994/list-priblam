{
  "nbformat": 4,
  "nbformat_minor": 0,
  "metadata": {
    "colab": {
      "provenance": []
    },
    "kernelspec": {
      "name": "python3",
      "display_name": "Python 3"
    },
    "language_info": {
      "name": "python"
    }
  },
  "cells": [
    {
      "cell_type": "code",
      "execution_count": null,
      "metadata": {
        "colab": {
          "base_uri": "https://localhost:8080/"
        },
        "id": "LY-BAMPvDQXW",
        "outputId": "fc556791-da2d-49d1-fa91-a61c1727ee44"
      },
      "outputs": [
        {
          "output_type": "stream",
          "name": "stdout",
          "text": [
            "[(2, 1), (1, 2), (2, 3), (4, 4), (2, 5)]\n"
          ]
        }
      ],
      "source": [
        "def name (li):\n",
        "  a= [(2,5),(1,2), (4,4),(2,3),(2,1)]\n",
        "  li=[]\n",
        "  for i in a:\n",
        "    for item in range(len(li)):\n",
        "      if i[1]<li[item][1]: # Changed i to 1\n",
        "        li.insert(item, i)\n",
        "        #print(li) # Moved print inside the if\n",
        "        break\n",
        "    else:\n",
        "      li.append(i)\n",
        "\n",
        "  print(li)\n",
        "name (a)"
      ]
    },
    {
      "cell_type": "code",
      "source": [
        "a= [1,2,5,4,8,4,5,2,8]\n",
        "b= []\n",
        "c= list(set(a))\n",
        "c"
      ],
      "metadata": {
        "colab": {
          "base_uri": "https://localhost:8080/"
        },
        "id": "H-WdO8uPYew8",
        "outputId": "bda20251-f2c4-4894-aa31-867bd63045b7"
      },
      "execution_count": null,
      "outputs": [
        {
          "output_type": "execute_result",
          "data": {
            "text/plain": [
              "[1, 2, 4, 5, 8]"
            ]
          },
          "metadata": {},
          "execution_count": 31
        }
      ]
    },
    {
      "cell_type": "code",
      "source": [
        "def sojib (a):\n",
        "  a= [1,2,5,4,8,4,5,2,8]\n",
        "  b= []\n",
        "  for i in a:\n",
        "    if i not in b:\n",
        "      b.append (i)\n",
        "  print(b)\n",
        "sojib(a)"
      ],
      "metadata": {
        "colab": {
          "base_uri": "https://localhost:8080/"
        },
        "id": "kZSxLhIMMuC-",
        "outputId": "2fd6b8c3-e73a-45d6-b602-389f4ec04e61"
      },
      "execution_count": null,
      "outputs": [
        {
          "output_type": "stream",
          "name": "stdout",
          "text": [
            "[1, 2, 5, 4, 8]\n"
          ]
        }
      ]
    },
    {
      "cell_type": "code",
      "source": [
        " a= [1,2,5,4,8,4,5,2,8]\n",
        " b=[]\n",
        " if len(a)==0:\n",
        "  print(\"empty\")\n",
        " else:\n",
        "  print(\"not empty\")\n"
      ],
      "metadata": {
        "colab": {
          "base_uri": "https://localhost:8080/"
        },
        "id": "M6cFK57WadIG",
        "outputId": "7129abc7-4a5c-4adb-9a65-34361f662f45"
      },
      "execution_count": null,
      "outputs": [
        {
          "output_type": "stream",
          "name": "stdout",
          "text": [
            "not empty\n"
          ]
        }
      ]
    },
    {
      "cell_type": "code",
      "source": [
        " a= [1,2,5,4,8,4,5,2,8]\n",
        " b=a.copy()\n",
        " b"
      ],
      "metadata": {
        "colab": {
          "base_uri": "https://localhost:8080/"
        },
        "id": "oh9-rA57e3U0",
        "outputId": "c5513dba-e887-484e-d7d7-640376186f4b"
      },
      "execution_count": null,
      "outputs": [
        {
          "output_type": "execute_result",
          "data": {
            "text/plain": [
              "[1, 2, 5, 4, 8, 4, 5, 2, 8]"
            ]
          },
          "metadata": {},
          "execution_count": 43
        }
      ]
    },
    {
      "cell_type": "code",
      "source": [
        " def hanif(a):\n",
        "  a= [1,2,5,4,5,7,5,8]\n",
        "  b=[]\n",
        "  if len(b)==0:\n",
        "    print(\"empty\")\n",
        "  else:\n",
        "    print(\"not empty\")\n",
        " hanif(a)"
      ],
      "metadata": {
        "colab": {
          "base_uri": "https://localhost:8080/"
        },
        "id": "4V8lWdqhkjZM",
        "outputId": "a2d0710a-7fdc-4a39-9a88-481a7562404c"
      },
      "execution_count": null,
      "outputs": [
        {
          "output_type": "stream",
          "name": "stdout",
          "text": [
            "empty\n"
          ]
        }
      ]
    },
    {
      "cell_type": "code",
      "source": [
        " def name(b):\n",
        "  a= \"you jump into my shoe\"\n",
        "  li=[]\n",
        "  n=3\n",
        "  for i in a.split():\n",
        "    if len(i)> n:\n",
        "      li.append(i)\n",
        "      print(i)\n",
        "  print(li)\n",
        " name(a)"
      ],
      "metadata": {
        "colab": {
          "base_uri": "https://localhost:8080/"
        },
        "id": "Po7xjW7gmbJV",
        "outputId": "a50c28da-797c-4a3d-e89b-249c644f0e43"
      },
      "execution_count": null,
      "outputs": [
        {
          "output_type": "stream",
          "name": "stdout",
          "text": [
            "jump\n",
            "into\n",
            "shoe\n",
            "['jump', 'into', 'shoe']\n"
          ]
        }
      ]
    },
    {
      "cell_type": "code",
      "source": [
        " a =[\"apple\", \"banna\", \"cherry\", \"mango\" ]\n",
        " for Index , value in enumerate(a):\n",
        "    print(Index,value)"
      ],
      "metadata": {
        "colab": {
          "base_uri": "https://localhost:8080/"
        },
        "id": "n6Vch_4Pq0Tz",
        "outputId": "b5b9c7c2-4bb6-474d-f3f6-1de7b2f57212"
      },
      "execution_count": null,
      "outputs": [
        {
          "output_type": "stream",
          "name": "stdout",
          "text": [
            "0 apple\n",
            "1 banna\n",
            "2 cherry\n",
            "3 mango\n"
          ]
        }
      ]
    },
    {
      "cell_type": "code",
      "source": [
        "a = ['H',\"E\",\"L\", \"L\",\"o\"]"
      ],
      "metadata": {
        "id": "OkmjcjBNcwZd"
      },
      "execution_count": null,
      "outputs": []
    }
  ]
}